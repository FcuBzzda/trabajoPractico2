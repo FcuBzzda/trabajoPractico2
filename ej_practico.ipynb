{
 "cells": [
  {
   "cell_type": "markdown",
   "metadata": {},
   "source": [
    "## **Archivo Principal** \n",
    "Importando funciones:\n"
   ]
  },
  {
   "cell_type": "code",
   "execution_count": 1,
   "metadata": {},
   "outputs": [],
   "source": [
    "import modules"
   ]
  },
  {
   "cell_type": "markdown",
   "metadata": {},
   "source": [
    "**Inciso 1** (Crear la estructura donde almacenaremos las estadisticas de los jugadores):"
   ]
  },
  {
   "cell_type": "code",
   "execution_count": 2,
   "metadata": {},
   "outputs": [
    {
     "data": {
      "text/plain": [
       "{'AGUSTIN': [0, 0, 0],\n",
       " 'YANINA': [10, 2, 5],\n",
       " 'ANDRÉS': [4, 0, 1],\n",
       " 'ARIADNA': [0, 0, 0],\n",
       " 'BAUTISTA': [5, 5, 5],\n",
       " 'CAROLINA': [14, 2, 2],\n",
       " 'CESAR': [0, 0, 0],\n",
       " 'DAVID': [0, 0, 0],\n",
       " 'DIEGO': [7, 1, 1],\n",
       " 'DOLORES': [2, 2, 2],\n",
       " 'DYLAN': [1, 0, 1],\n",
       " 'ELIANA': [1, 5, 5],\n",
       " 'EMANUEL': [1, 5, 5],\n",
       " 'FABIÁN': [5, 0, 0],\n",
       " 'NOELIA': [6, 1, 1],\n",
       " 'FRANCSICA': [1, 0, 0],\n",
       " 'FEDERICO': [1, 2, 2],\n",
       " 'FERNANDA': [2, 3, 3],\n",
       " 'GONZALO': [0, 0, 1],\n",
       " 'NANCY': [11, 0, 0]}"
      ]
     },
     "execution_count": 2,
     "metadata": {},
     "output_type": "execute_result"
    }
   ],
   "source": [
    "names = \"\"\"Agustin, Yanina, Andrés, Ariadna, Bautista, CAROLINA, CESAR, David, Diego, Dolores, DYLAN, ELIANA, Emanuel, Fabián, Noelia, Francsica, FEDERICO, Fernanda, GONZALO, Nancy\"\"\"\n",
    "goals = [0, 10, 4, 0, 5, 14, 0, 0, 7, 2, 1, 1, 1, 5, 6, 1, 1, 2, 0, 11]\n",
    "goals_avoided = [0, 2, 0, 0, 5, 2, 0, 0, 1, 2, 0, 5, 5, 0, 1, 0, 2, 3, 0, 0]\n",
    "assists = [0, 5, 1, 0, 5, 2, 0, 0, 1, 2, 1, 5, 5, 0, 1, 0, 2, 3, 1, 0]\n",
    "\n",
    "stats = {}  # Estructura que usaremos\n",
    "names = names.upper()\n",
    "modules.new_Structure(goals,goals_avoided,assists,stats,names)\n",
    "\n",
    "stats"
   ]
  },
  {
   "cell_type": "markdown",
   "metadata": {},
   "source": [
    "**Inciso 2** (Devolver el nombre junto con la cantidad de goles de un/a jugador/a)"
   ]
  },
  {
   "cell_type": "code",
   "execution_count": 3,
   "metadata": {},
   "outputs": [
    {
     "name": "stdout",
     "output_type": "stream",
     "text": [
      "('Jugador: ', 'AGUSTIN', ' anoto la cantidad de ', 0, ' goles.')\n"
     ]
    }
   ],
   "source": [
    "indice = int(input('Para buscar un jugador, ingrese un numero (A partir de 0): '))\n",
    "names = names.split(', ')\n",
    "print(modules.get_Player(names,stats, indice))"
   ]
  },
  {
   "cell_type": "markdown",
   "metadata": {},
   "source": [
    "**Inciso 3** (Devolver el jugador/a más influyente)"
   ]
  },
  {
   "cell_type": "code",
   "execution_count": 4,
   "metadata": {},
   "outputs": [
    {
     "name": "stdout",
     "output_type": "stream",
     "text": [
      "Jugador/a más influyente:  CAROLINA\n"
     ]
    }
   ],
   "source": [
    "print('Jugador/a más influyente: ',modules.max_Influence(stats))"
   ]
  },
  {
   "cell_type": "markdown",
   "metadata": {},
   "source": [
    "**Inciso 4** (Devolver el promedio del equipo)"
   ]
  },
  {
   "cell_type": "code",
   "execution_count": 5,
   "metadata": {},
   "outputs": [
    {
     "name": "stdout",
     "output_type": "stream",
     "text": [
      "Promedio de goles en los 25 partidos:  2.84\n"
     ]
    }
   ],
   "source": [
    "print('Promedio de goles en los 25 partidos: ',modules.get_Average(stats))"
   ]
  },
  {
   "cell_type": "markdown",
   "metadata": {},
   "source": [
    "**Inciso 5** (Devolver el promedio de un jugador/a)"
   ]
  },
  {
   "cell_type": "code",
   "execution_count": 7,
   "metadata": {},
   "outputs": [
    {
     "name": "stdout",
     "output_type": "stream",
     "text": [
      "CAROLINA  tiene un promedio de  0.56\n"
     ]
    }
   ],
   "source": [
    "Clave = input('Ingrese el nombre del jugador para conocer su promedio:')\n",
    "Clave = Clave.upper()\n",
    "print(Clave,' tiene un promedio de ',modules.get_player_Average(Clave,stats))"
   ]
  }
 ],
 "metadata": {
  "kernelspec": {
   "display_name": "Python 3",
   "language": "python",
   "name": "python3"
  },
  "language_info": {
   "codemirror_mode": {
    "name": "ipython",
    "version": 3
   },
   "file_extension": ".py",
   "mimetype": "text/x-python",
   "name": "python",
   "nbconvert_exporter": "python",
   "pygments_lexer": "ipython3",
   "version": "3.11.9"
  }
 },
 "nbformat": 4,
 "nbformat_minor": 2
}
