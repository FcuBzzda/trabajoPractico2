{
 "cells": [
  {
   "cell_type": "markdown",
   "metadata": {},
   "source": [
    "## **Archivo Principal** \n",
    "Importando funciones:\n"
   ]
  },
  {
   "cell_type": "code",
   "execution_count": 1,
   "metadata": {},
   "outputs": [],
   "source": [
    "import modules"
   ]
  },
  {
   "cell_type": "markdown",
   "metadata": {},
   "source": [
    "**Inciso 1** (Crear la estructura donde almacenaremos las estadisticas de los jugadores):"
   ]
  },
  {
   "cell_type": "code",
   "execution_count": 2,
   "metadata": {},
   "outputs": [
    {
     "data": {
      "text/plain": [
       "{' Agustin': [0, 0, 0],\n",
       " 'Yanina': [10, 2, 5],\n",
       " 'Andrés': [4, 0, 1],\n",
       " 'Ariadna': [0, 0, 0],\n",
       " 'Bautista': [5, 5, 5],\n",
       " 'CAROLINA': [14, 2, 2],\n",
       " 'CESAR': [0, 0, 0],\n",
       " 'David': [0, 0, 0],\n",
       " 'Diego': [7, 1, 1],\n",
       " 'Dolores': [2, 2, 2],\n",
       " 'DYLAN': [1, 0, 1],\n",
       " 'ELIANA': [1, 5, 5],\n",
       " 'Emanuel': [1, 5, 5],\n",
       " 'Fabián': [5, 0, 0],\n",
       " 'Noelia': [6, 1, 1],\n",
       " 'Francsica': [1, 0, 0],\n",
       " 'FEDERICO': [1, 2, 2],\n",
       " 'Fernanda': [2, 3, 3],\n",
       " 'GONZALO': [0, 0, 1],\n",
       " 'Nancy ': [11, 0, 0]}"
      ]
     },
     "execution_count": 2,
     "metadata": {},
     "output_type": "execute_result"
    }
   ],
   "source": [
    "names = \"\"\"Agustin, Yanina, Andrés, Ariadna, Bautista, CAROLINA, CESAR, David, Diego, Dolores, DYLAN, ELIANA, Emanuel, Fabián, Noelia, Francsica, FEDERICO, Fernanda, GONZALO, Nancy\"\"\"\n",
    "goals = [0, 10, 4, 0, 5, 14, 0, 0, 7, 2, 1, 1, 1, 5, 6, 1, 1, 2, 0, 11]\n",
    "goals_avoided = [0, 2, 0, 0, 5, 2, 0, 0, 1, 2, 0, 5, 5, 0, 1, 0, 2, 3, 0, 0]\n",
    "assists = [0, 5, 1, 0, 5, 2, 0, 0, 1, 2, 1, 5, 5, 0, 1, 0, 2, 3, 1, 0]\n",
    "\n",
    "stats = {}  # Estructura que usaremos\n",
    "\n",
    "modules.new_Structure(names,goals,goals_avoided,assists,stats)\n",
    "\n",
    "stats\n"
   ]
  },
  {
   "cell_type": "markdown",
   "metadata": {},
   "source": [
    "**Inciso 2** (Devolver el nombre junto con la cantidad de goles de un/a jugador/a)"
   ]
  },
  {
   "cell_type": "code",
   "execution_count": 3,
   "metadata": {},
   "outputs": [
    {
     "data": {
      "text/plain": [
       "('Jugador: ', 'Andrés', ' anoto la cantidad de ', 4, ' goles.')"
      ]
     },
     "execution_count": 3,
     "metadata": {},
     "output_type": "execute_result"
    }
   ],
   "source": [
    "indice = int(input('Para buscar un jugador, ingrese un numero (A partir de 0): '))\n",
    "names = names.split(', ')\n",
    "modules.get_Player(names,stats, indice)\n",
    "\n",
    "\n",
    "\n"
   ]
  },
  {
   "cell_type": "markdown",
   "metadata": {},
   "source": [
    "**Inciso 3** (Devolver el jugador/a más influyente)"
   ]
  },
  {
   "cell_type": "code",
   "execution_count": 4,
   "metadata": {},
   "outputs": [
    {
     "name": "stdout",
     "output_type": "stream",
     "text": [
      "Jugador/a más influyente:  CAROLINA\n"
     ]
    }
   ],
   "source": [
    "print('Jugador/a más influyente: ',modules.max_Influence(names,stats))"
   ]
  },
  {
   "cell_type": "markdown",
   "metadata": {},
   "source": [
    "**Inciso 4** (Devolver el promedio del equipo)"
   ]
  },
  {
   "cell_type": "code",
   "execution_count": 5,
   "metadata": {},
   "outputs": [
    {
     "name": "stdout",
     "output_type": "stream",
     "text": [
      "Promedio de goles en los 25 partidos:  2.84\n"
     ]
    }
   ],
   "source": [
    "print('Promedio de goles en los 25 partidos: ',modules.get_Average(names,stats))"
   ]
  },
  {
   "cell_type": "markdown",
   "metadata": {},
   "source": [
    "**Inciso 5** (Devolver el promedio de un jugador/a)"
   ]
  },
  {
   "cell_type": "code",
   "execution_count": 6,
   "metadata": {},
   "outputs": [],
   "source": [
    "Clave = input('Ingrese el nombre del jugador para conocer su promedio:')\n",
    "\n",
    "print(Clave,' tiene un promedio de ',modules.get_player_Average(Clave,stats))"
   ]
  }
 ],
 "metadata": {
  "kernelspec": {
   "display_name": "Python 3",
   "language": "python",
   "name": "python3"
  },
  "language_info": {
   "codemirror_mode": {
    "name": "ipython",
    "version": 3
   },
   "file_extension": ".py",
   "mimetype": "text/x-python",
   "name": "python",
   "nbconvert_exporter": "python",
   "pygments_lexer": "ipython3",
   "version": "3.11.9"
  }
 },
 "nbformat": 4,
 "nbformat_minor": 2
}
